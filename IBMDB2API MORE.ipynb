{
 "cells": [
  {
   "cell_type": "code",
   "execution_count": 1,
   "metadata": {},
   "outputs": [],
   "source": [
    "import ibm_db"
   ]
  },
  {
   "cell_type": "code",
   "execution_count": 2,
   "metadata": {},
   "outputs": [],
   "source": [
    "dsn_hostname='dashdb-txn-sbox-yp-dal09-04.services.dal.bluemix.net'\n",
    "dsn_uid='kmg34019'\n",
    "dsn_pwd='jp-bzv4llm6h3t3g'\n",
    "dsn_driver='{IBM DB2 ODBC DRIVER}'\n",
    "dsn_database='BLUDB'\n",
    "dsn_port='50000'\n",
    "dsn_protocol='TCPIP'"
   ]
  },
  {
   "cell_type": "code",
   "execution_count": 9,
   "metadata": {},
   "outputs": [],
   "source": []
  },
  {
   "cell_type": "code",
   "execution_count": 14,
   "metadata": {},
   "outputs": [
    {
     "name": "stdout",
     "output_type": "stream",
     "text": [
      "DRIVER={IBM DB2 ODBC DRIVER};DATABASE=BLUDB;HOSTNAME=dashdb-txn-sbox-yp-dal09-04.services.dal.bluemix.net;PORT=50000;PROTOCOL=TCPIP;UID=kmg34019;PWD=jp-bzv4llm6h3t3g;\n"
     ]
    }
   ],
   "source": []
  },
  {
   "cell_type": "code",
   "execution_count": 3,
   "metadata": {},
   "outputs": [],
   "source": [
    "dsn=(\"Driver={0};\"\n",
    "    \"DATABASE={1};\"\n",
    "    \"HOSTNAME={2};\"\n",
    "    \"PORT={3};\"\n",
    "    \"PROTOCOL={4};\"\n",
    "     \"UID={5};\"\n",
    "     \"PWD={6};\").format(dsn_driver,dsn_database,dsn_hostname,dsn_port,dsn_protocol,dsn_uid,dsn_pwd)"
   ]
  },
  {
   "cell_type": "code",
   "execution_count": 4,
   "metadata": {},
   "outputs": [
    {
     "name": "stdout",
     "output_type": "stream",
     "text": [
      "connected\n"
     ]
    }
   ],
   "source": [
    "try:\n",
    "    conn=ibm_db.connect(dsn,\"\", \"\")\n",
    "    print('connected')\n",
    "except:\n",
    "    print('not connected')"
   ]
  },
  {
   "cell_type": "code",
   "execution_count": 20,
   "metadata": {},
   "outputs": [
    {
     "name": "stdout",
     "output_type": "stream",
     "text": [
      "Connected to database:  BLUDB as user:  kmg34019 on host:  dashdb-txn-sbox-yp-dal09-04.services.dal.bluemix.net\n"
     ]
    }
   ],
   "source": []
  },
  {
   "cell_type": "code",
   "execution_count": 6,
   "metadata": {},
   "outputs": [],
   "source": [
    "stmt=ibm_db.exec_immediate(conn,\n",
    "                           \"CREATE TABLE Trucks(serial_no VARCHAR(20) PRIMARY KEY NOT NULL,model_no VARCHAR(30) NOT NULL,manufacturer VARCHAR(50) NOT NULL,engine_size VARCHAR(20) NOT NULL,truck_class VARCHAR(20) NOT NULL)\")"
   ]
  },
  {
   "cell_type": "code",
   "execution_count": 11,
   "metadata": {},
   "outputs": [],
   "source": [
    "stmt=ibm_db.exec_immediate(conn,\"INSERT INTO Trucks ( VALUES ('1011','ASHOKLEYLAND','SCANIA','500BHP','PICKUP'));\")"
   ]
  },
  {
   "cell_type": "code",
   "execution_count": 15,
   "metadata": {},
   "outputs": [
    {
     "ename": "Exception",
     "evalue": "[IBM][CLI Driver][DB2/LINUXX8664] SQL0104N  An unexpected token \"'serial_no'\" was found following \"NSERT INTO Trucks ((\".  Expected tokens may include:  \"<values>\".  SQLSTATE=42601\r SQLCODE=-104",
     "output_type": "error",
     "traceback": [
      "\u001b[1;31m---------------------------------------------------------------------------\u001b[0m",
      "\u001b[1;31mException\u001b[0m                                 Traceback (most recent call last)",
      "\u001b[1;32m<ipython-input-15-0c2db3df1dba>\u001b[0m in \u001b[0;36m<module>\u001b[1;34m\u001b[0m\n\u001b[1;32m----> 1\u001b[1;33m \u001b[0mstmt\u001b[0m\u001b[1;33m=\u001b[0m\u001b[0mibm_db\u001b[0m\u001b[1;33m.\u001b[0m\u001b[0mexec_immediate\u001b[0m\u001b[1;33m(\u001b[0m\u001b[0mconn\u001b[0m\u001b[1;33m,\u001b[0m\u001b[1;34m\"INSERT INTO Trucks (( 'serial_no','model_no','maufacturer','engine_size','truck_class') VALUES ('1022','TATA','INDICA','1000BHP','Transport'));\"\u001b[0m\u001b[1;33m)\u001b[0m\u001b[1;33m\u001b[0m\u001b[1;33m\u001b[0m\u001b[0m\n\u001b[0m",
      "\u001b[1;31mException\u001b[0m: [IBM][CLI Driver][DB2/LINUXX8664] SQL0104N  An unexpected token \"'serial_no'\" was found following \"NSERT INTO Trucks ((\".  Expected tokens may include:  \"<values>\".  SQLSTATE=42601\r SQLCODE=-104"
     ]
    }
   ],
   "source": [
    "stmt=ibm_db.exec_immediate(conn,\"INSERT INTO Trucks (( 'serial_no','model_no','manufacturer','engine_size','truck_class') VALUES ('1022','TATA','INDICA','1000BHP','Transport'));\")"
   ]
  },
  {
   "cell_type": "code",
   "execution_count": 20,
   "metadata": {},
   "outputs": [
    {
     "ename": "Exception",
     "evalue": "[IBM][CLI Driver][DB2/LINUXX8664] SQL0803N  One or more values in the INSERT statement, UPDATE statement, or foreign key update caused by a DELETE statement are not valid because the primary key, unique constraint or unique index identified by \"1\" constrains table \"KMG34019.TRUCKS\" from having duplicate values for the index key.  SQLSTATE=23505\r SQLCODE=-803",
     "output_type": "error",
     "traceback": [
      "\u001b[1;31m---------------------------------------------------------------------------\u001b[0m",
      "\u001b[1;31mException\u001b[0m                                 Traceback (most recent call last)",
      "\u001b[1;32m<ipython-input-20-71b0e9373db6>\u001b[0m in \u001b[0;36m<module>\u001b[1;34m\u001b[0m\n\u001b[1;32m----> 1\u001b[1;33m \u001b[0mstmt\u001b[0m\u001b[1;33m=\u001b[0m\u001b[0mibm_db\u001b[0m\u001b[1;33m.\u001b[0m\u001b[0mexec_immediate\u001b[0m\u001b[1;33m(\u001b[0m\u001b[0mconn\u001b[0m\u001b[1;33m,\u001b[0m\u001b[1;34m\"INSERT INTO Trucks(VALUES('1022','Mahindra','MM','100HP','transport'))\"\u001b[0m\u001b[1;33m)\u001b[0m\u001b[1;33m\u001b[0m\u001b[1;33m\u001b[0m\u001b[0m\n\u001b[0m",
      "\u001b[1;31mException\u001b[0m: [IBM][CLI Driver][DB2/LINUXX8664] SQL0803N  One or more values in the INSERT statement, UPDATE statement, or foreign key update caused by a DELETE statement are not valid because the primary key, unique constraint or unique index identified by \"1\" constrains table \"KMG34019.TRUCKS\" from having duplicate values for the index key.  SQLSTATE=23505\r SQLCODE=-803"
     ]
    }
   ],
   "source": []
  },
  {
   "cell_type": "code",
   "execution_count": 18,
   "metadata": {},
   "outputs": [],
   "source": [
    "stmt=ibm_db.exec_immediate(conn,'SELECT* FROM Trucks;')"
   ]
  },
  {
   "cell_type": "code",
   "execution_count": 19,
   "metadata": {},
   "outputs": [
    {
     "data": {
      "text/plain": [
       "{'SERIAL_NO': '1011',\n",
       " 0: '1011',\n",
       " 'MODEL_NO': 'ASHOKLEYLAND',\n",
       " 1: 'ASHOKLEYLAND',\n",
       " 'MANUFACTURER': 'SCANIA',\n",
       " 2: 'SCANIA',\n",
       " 'ENGINE_SIZE': '500BHP',\n",
       " 3: '500BHP',\n",
       " 'TRUCK_CLASS': 'PICKUP',\n",
       " 4: 'PICKUP'}"
      ]
     },
     "execution_count": 19,
     "metadata": {},
     "output_type": "execute_result"
    }
   ],
   "source": [
    "ibm_db.fetch_both(stmt)"
   ]
  },
  {
   "cell_type": "code",
   "execution_count": 23,
   "metadata": {},
   "outputs": [],
   "source": [
    "stmt=ibm_db.exec_immediate(conn,'SELECT DISTINCT(manufacturer) FROM Trucks;')"
   ]
  },
  {
   "cell_type": "code",
   "execution_count": 24,
   "metadata": {},
   "outputs": [
    {
     "data": {
      "text/plain": [
       "{'MANUFACTURER': 'MM', 0: 'MM'}"
      ]
     },
     "execution_count": 24,
     "metadata": {},
     "output_type": "execute_result"
    }
   ],
   "source": [
    "ibm_db.fetch_both(stmt)"
   ]
  },
  {
   "cell_type": "code",
   "execution_count": null,
   "metadata": {},
   "outputs": [],
   "source": [
    "%sql ibm_db_sa://"
   ]
  }
 ],
 "metadata": {
  "kernelspec": {
   "display_name": "Python 3",
   "language": "python",
   "name": "python3"
  },
  "language_info": {
   "codemirror_mode": {
    "name": "ipython",
    "version": 3
   },
   "file_extension": ".py",
   "mimetype": "text/x-python",
   "name": "python",
   "nbconvert_exporter": "python",
   "pygments_lexer": "ipython3",
   "version": "3.7.6"
  }
 },
 "nbformat": 4,
 "nbformat_minor": 4
}
